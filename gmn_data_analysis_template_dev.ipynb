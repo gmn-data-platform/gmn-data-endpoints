{
  "cells": [
    {
      "cell_type": "markdown",
      "metadata": {
        "id": "view-in-github",
        "colab_type": "text"
      },
      "source": [
        "<a href=\"https://colab.research.google.com/github/gmn-data-platform/gmn-data-endpoints/blob/main/gmn_data_analysis_template_dev.ipynb\" target=\"_parent\"><img src=\"https://colab.research.google.com/assets/colab-badge.svg\" alt=\"Open In Colab\"/></a>"
      ]
    },
    {
      "cell_type": "markdown",
      "source": [
        "# **Development** Global Meteor Network Data Analysis Template\n",
        "\n",
        "Starter template for GMN data analysis. Using [gmn-python-api](https://github.com/gmn-data-platform/gmn-python-api) (<a href=\"https://gmn-python-api.readthedocs.io/en/latest/\">docs</a>) and [WesternMeteorPyLib](https://github.com/wmpg/WesternMeteorPyLib).\n",
        "\n",
        "**Click on \"Copy to Drive\" above to allow changes to be saved.**"
      ],
      "metadata": {
        "id": "7buzP6U12CTl"
      }
    },
    {
      "cell_type": "markdown",
      "source": [
        "To use this **development** template:\n",
        "1. Connect to a local Jupyter notebook server using the \"Connect\" dropdown in the top right following the instructions provided by Google Colab.\n",
        "2. Install the target `gmn-python-api`, `wmpl` and `dtale` packages are installed in the Python 3.7 site-packages path.\n",
        "3. Locally run the Docker services in gmn-data-endpoints (the value for `gmn_python_api.gmn_data_store_rest_api.QUERY_URL` should be replaced with `http://0.0.0.0:8001/gmn_data_store{table}.{data_format}?_shape={data_shape}`)\n",
        "4. To run this, data up to 25/7/2019 should have been sucessful ingested into the gmn-data-store database."
      ],
      "metadata": {
        "id": "qKZOPQr-q19h"
      }
    },
    {
      "cell_type": "markdown",
      "source": [
        "---\n",
        "\n",
        "## Load meteor/trajectory summary data into Pandas using gmn-python-api"
      ],
      "metadata": {
        "id": "QIkfiaJ6apoG"
      }
    },
    {
      "cell_type": "code",
      "source": [
        "# Imports\n",
        "from datetime import datetime\n",
        "from gmn_python_api import get_daily_file_content_by_date\n",
        "from gmn_python_api import read_meteor_summary_csv_as_dataframe\n",
        "from gmn_python_api import get_meteor_summary_data_reader_compatible\n",
        "import gmn_python_api.gmn_data_store_rest_api\n",
        "gmn_python_api.gmn_data_store_rest_api.QUERY_URL = \"http://0.0.0.0:8001/gmn_data_store{table}.{data_format}?_shape={data_shape}\""
      ],
      "metadata": {
        "id": "svgImznNa947"
      },
      "execution_count": null,
      "outputs": []
    },
    {
      "cell_type": "code",
      "source": [
        "import dtale\n",
        "import dtale.app as dtale_app"
      ],
      "metadata": {
        "id": "LKaW6Yvd7LPF"
      },
      "execution_count": null,
      "outputs": []
    },
    {
      "cell_type": "code",
      "source": [
        "# REST API load test\n",
        "meteor_summary_file_content_rest_api = get_meteor_summary_data_reader_compatible(where=\"beginning_utc_time__date=2019-07-24\")[0]\n",
        "meteor_summary_dataframe_rest_api = read_meteor_summary_csv_as_dataframe(meteor_summary_file_content_rest_api, csv_data_directory_format=False)\n",
        "print(f\"{meteor_summary_dataframe_rest_api['Vgeo (km/s)'].max()} km/s was the fastest geostationary velocity out of all meteors for that day.\")\n",
        "print(f\"{meteor_summary_dataframe_rest_api.loc[meteor_summary_dataframe_rest_api['IAU (code)'] == 'PER'].shape[0]} meteors were estimated to be part of the Perseids shower.\")\n",
        "print(f\"Station #{meteor_summary_dataframe_rest_api['Num (stat)'].mode().values[0]} recorded the highest number of meteors.\")"
      ],
      "metadata": {
        "id": "xxx7ymdq0x6O"
      },
      "execution_count": null,
      "outputs": []
    },
    {
      "cell_type": "code",
      "source": [
        "# Data directory load test\n",
        "trajectory_summary_file_content_data_directory = get_daily_file_content_by_date(datetime(2019, 7, 24))\n",
        "trajectory_summary_dataframe_data_directory = read_meteor_summary_csv_as_dataframe(trajectory_summary_file_content_data_directory, csv_data_directory_format=True)\n",
        "print(f\"{trajectory_summary_dataframe_data_directory['Vgeo (km/s)'].max()} km/s was the fastest geostationary velocity out of all meteors for that day.\")\n",
        "print(f\"{trajectory_summary_dataframe_data_directory.loc[trajectory_summary_dataframe_data_directory['IAU (code)'] == 'PER'].shape[0]} meteors were estimated to be part of the Perseids shower.\")\n",
        "print(f\"Station #{trajectory_summary_dataframe_data_directory['Num (stat)'].mode().values[0]} recorded the highest number of meteors.\")"
      ],
      "metadata": {
        "id": "h0z_hqMZNR_n"
      },
      "execution_count": null,
      "outputs": []
    },
    {
      "cell_type": "markdown",
      "source": [
        "---\n",
        "\n",
        "## WesternMeteorPyLib skyplot\n",
        "\n",
        "Below is a skyplot (BEThel (deg) on y-axis, LAMgeo (deg) on x-axis) of meteors recorded on the 24th of July 2019. wmpl is used for rendering the plot. The red points indicate meteors estimated to be part of the Perseids shower."
      ],
      "metadata": {
        "id": "_8cNXjteN5E-"
      }
    },
    {
      "cell_type": "code",
      "source": [
        "%matplotlib inline\n",
        "\n",
        "import numpy as np\n",
        "import wmpl\n",
        "from wmpl.Utils.PlotCelestial import CelestialPlot\n",
        "import matplotlib.pyplot as plt\n",
        "\n",
        "ra = []\n",
        "dec = []\n",
        "\n",
        "ra.append(np.deg2rad((meteor_summary_dataframe_rest_api['LAMgeo (deg)'] - meteor_summary_dataframe_rest_api['Sol lon (deg)']) % 360))\n",
        "dec.append(np.deg2rad(meteor_summary_dataframe_rest_api['BEThel (deg)']))\n",
        "colors = [\"red\" if str(x) == \"PER\" else \"white\" for x in meteor_summary_dataframe_rest_api['IAU (code)']]\n",
        "\n",
        "plt.rcParams['figure.figsize'] = 15, 25\n",
        "celes_plot = CelestialPlot(ra, dec, projection='sinu', lon_0=-90)\n",
        "celes_plot.scatter(ra, dec, c=colors, s=15)"
      ],
      "metadata": {
        "id": "JDYMmtRDwcxi"
      },
      "execution_count": null,
      "outputs": []
    },
    {
      "cell_type": "markdown",
      "source": [
        "---\n",
        "\n",
        "## D-Tale\n",
        "**Currently not working for dev template due to https://github.com/man-group/dtale/issues/661**\n",
        "\n",
        "[D-Tale](https://github.com/man-group/dtale) is a visualiser for Pandas data structures. It can be used to explore and create plots for `meteor_summary_dataframe_rest_api`. Run the cells below and click on the link generated to access D-Tale."
      ],
      "metadata": {
        "id": "HI7pQ0aFZg3g"
      }
    },
    {
      "cell_type": "code",
      "source": [
        "!pip install -U dtale\n",
        "\n",
        "import pandas as pd\n",
        "\n",
        "import dtale\n",
        "import dtale.app as dtale_app\n",
        "\n",
        "dtale_app.USE_COLAB = True\n",
        "# dtale_app.USE_NGROK = False\n",
        "\n",
        "dtale.show(meteor_summary_dataframe_rest_api)"
      ],
      "metadata": {
        "id": "cZOfvaYsOcLB"
      },
      "execution_count": null,
      "outputs": []
    }
  ],
  "metadata": {
    "colab": {
      "name": "gmn_data_analysis_template_dev.ipynb",
      "provenance": [],
      "collapsed_sections": [],
      "include_colab_link": true
    },
    "kernelspec": {
      "display_name": "Python 3",
      "name": "python3"
    },
    "language_info": {
      "name": "python"
    }
  },
  "nbformat": 4,
  "nbformat_minor": 0
}